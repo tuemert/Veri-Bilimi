{
 "cells": [
  {
   "cell_type": "markdown",
   "id": "77a66492",
   "metadata": {},
   "source": [
    "String = Metin"
   ]
  },
  {
   "cell_type": "code",
   "execution_count": 1,
   "id": "07fb917b",
   "metadata": {},
   "outputs": [
    {
     "data": {
      "text/plain": [
       "'hello world'"
      ]
     },
     "execution_count": 1,
     "metadata": {},
     "output_type": "execute_result"
    }
   ],
   "source": [
    "\"hello world\""
   ]
  },
  {
   "cell_type": "code",
   "execution_count": 2,
   "id": "db089a23",
   "metadata": {},
   "outputs": [
    {
     "name": "stdout",
     "output_type": "stream",
     "text": [
      "hello python\n"
     ]
    }
   ],
   "source": [
    "print(\"hello python\")"
   ]
  },
  {
   "cell_type": "code",
   "execution_count": 3,
   "id": "d145a20f",
   "metadata": {},
   "outputs": [
    {
     "data": {
      "text/plain": [
       "str"
      ]
     },
     "execution_count": 3,
     "metadata": {},
     "output_type": "execute_result"
    }
   ],
   "source": [
    "name = \"tugce\"\n",
    "\n",
    "type(name)"
   ]
  },
  {
   "cell_type": "code",
   "execution_count": 4,
   "id": "69fe9f42",
   "metadata": {},
   "outputs": [
    {
     "data": {
      "text/plain": [
       "'tugce mert'"
      ]
     },
     "execution_count": 4,
     "metadata": {},
     "output_type": "execute_result"
    }
   ],
   "source": [
    "'tugce mert'"
   ]
  },
  {
   "cell_type": "code",
   "execution_count": 5,
   "id": "c229bea8",
   "metadata": {},
   "outputs": [
    {
     "data": {
      "text/plain": [
       "'mert tugce'"
      ]
     },
     "execution_count": 5,
     "metadata": {},
     "output_type": "execute_result"
    }
   ],
   "source": [
    "'mert tugce'"
   ]
  },
  {
   "cell_type": "code",
   "execution_count": 6,
   "id": "30872568",
   "metadata": {},
   "outputs": [
    {
     "data": {
      "text/plain": [
       "'Tugce mert'"
      ]
     },
     "execution_count": 6,
     "metadata": {},
     "output_type": "execute_result"
    }
   ],
   "source": [
    "name = \"tugce mert\"\n",
    "\n",
    "name.capitalize()"
   ]
  },
  {
   "cell_type": "markdown",
   "id": "7ce56fff",
   "metadata": {},
   "source": [
    "capitalize = İlk harfi büyük yaz demektir."
   ]
  },
  {
   "cell_type": "code",
   "execution_count": 7,
   "id": "2fb2a6c5",
   "metadata": {},
   "outputs": [
    {
     "data": {
      "text/plain": [
       "'tugce mert'"
      ]
     },
     "execution_count": 7,
     "metadata": {},
     "output_type": "execute_result"
    }
   ],
   "source": [
    "name"
   ]
  },
  {
   "cell_type": "markdown",
   "id": "2d2f0b78",
   "metadata": {},
   "source": [
    "String Methods"
   ]
  },
  {
   "cell_type": "code",
   "execution_count": 8,
   "id": "54e6c321",
   "metadata": {},
   "outputs": [
    {
     "data": {
      "text/plain": [
       "'tugce mert'"
      ]
     },
     "execution_count": 8,
     "metadata": {},
     "output_type": "execute_result"
    }
   ],
   "source": [
    "name"
   ]
  },
  {
   "cell_type": "code",
   "execution_count": 9,
   "id": "c1f8985b",
   "metadata": {},
   "outputs": [
    {
     "data": {
      "text/plain": [
       "1"
      ]
     },
     "execution_count": 9,
     "metadata": {},
     "output_type": "execute_result"
    }
   ],
   "source": [
    "name.count(\"m\")"
   ]
  },
  {
   "cell_type": "code",
   "execution_count": 10,
   "id": "c9b53c7c",
   "metadata": {},
   "outputs": [
    {
     "data": {
      "text/plain": [
       "2"
      ]
     },
     "execution_count": 10,
     "metadata": {},
     "output_type": "execute_result"
    }
   ],
   "source": [
    "name.count(\"e\")"
   ]
  },
  {
   "cell_type": "markdown",
   "id": "2fcef4d3",
   "metadata": {},
   "source": [
    "Count = sayma "
   ]
  },
  {
   "cell_type": "code",
   "execution_count": 11,
   "id": "688f4aa1",
   "metadata": {},
   "outputs": [
    {
     "data": {
      "text/plain": [
       "'TUGCE MERT'"
      ]
     },
     "execution_count": 11,
     "metadata": {},
     "output_type": "execute_result"
    }
   ],
   "source": [
    "name.upper()"
   ]
  },
  {
   "cell_type": "markdown",
   "id": "03a665e9",
   "metadata": {},
   "source": [
    "Upper = Bütün harfleri büyük yazdırır."
   ]
  },
  {
   "cell_type": "code",
   "execution_count": 12,
   "id": "c7f0f39a",
   "metadata": {},
   "outputs": [],
   "source": [
    "nameUpper = name.upper()"
   ]
  },
  {
   "cell_type": "code",
   "execution_count": 13,
   "id": "7aa88aca",
   "metadata": {},
   "outputs": [
    {
     "data": {
      "text/plain": [
       "'TUGCE MERT'"
      ]
     },
     "execution_count": 13,
     "metadata": {},
     "output_type": "execute_result"
    }
   ],
   "source": [
    "nameUpper"
   ]
  },
  {
   "cell_type": "code",
   "execution_count": 14,
   "id": "b64b493c",
   "metadata": {},
   "outputs": [
    {
     "name": "stdout",
     "output_type": "stream",
     "text": [
      "TUGCE MERT\n"
     ]
    }
   ],
   "source": [
    "print(name.upper())"
   ]
  },
  {
   "cell_type": "code",
   "execution_count": 15,
   "id": "8b295846",
   "metadata": {},
   "outputs": [
    {
     "data": {
      "text/plain": [
       "10"
      ]
     },
     "execution_count": 15,
     "metadata": {},
     "output_type": "execute_result"
    }
   ],
   "source": [
    "len(name)"
   ]
  },
  {
   "cell_type": "markdown",
   "id": "48e82112",
   "metadata": {},
   "source": [
    "Length (Len)= Uzunluk yani harfler arasındaki boşlukta dahil olmak üzere harf sayısını verir."
   ]
  },
  {
   "cell_type": "code",
   "execution_count": 16,
   "id": "452af620",
   "metadata": {},
   "outputs": [
    {
     "name": "stdout",
     "output_type": "stream",
     "text": [
      "tugce mert\n"
     ]
    }
   ],
   "source": [
    "print(\"tugce mert\")"
   ]
  },
  {
   "cell_type": "code",
   "execution_count": 17,
   "id": "0812798c",
   "metadata": {},
   "outputs": [
    {
     "name": "stdout",
     "output_type": "stream",
     "text": [
      "tugce \n",
      "mert\n"
     ]
    }
   ],
   "source": [
    "print(\"tugce \\nmert\")"
   ]
  },
  {
   "cell_type": "markdown",
   "id": "8b8a9c6a",
   "metadata": {},
   "source": [
    "(\\n) Kavramı (new line) \n",
    "Yeni satıra geç demektir...."
   ]
  },
  {
   "cell_type": "code",
   "execution_count": null,
   "id": "78759bcb",
   "metadata": {},
   "outputs": [],
   "source": []
  }
 ],
 "metadata": {
  "kernelspec": {
   "display_name": "Python 3",
   "language": "python",
   "name": "python3"
  },
  "language_info": {
   "codemirror_mode": {
    "name": "ipython",
    "version": 3
   },
   "file_extension": ".py",
   "mimetype": "text/x-python",
   "name": "python",
   "nbconvert_exporter": "python",
   "pygments_lexer": "ipython3",
   "version": "3.11.6"
  }
 },
 "nbformat": 4,
 "nbformat_minor": 5
}
