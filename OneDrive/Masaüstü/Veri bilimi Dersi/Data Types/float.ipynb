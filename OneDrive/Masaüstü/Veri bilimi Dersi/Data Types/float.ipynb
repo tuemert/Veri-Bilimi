{
 "cells": [
  {
   "cell_type": "markdown",
   "id": "5d437027",
   "metadata": {},
   "source": [
    "Float = Kesirli Sayı"
   ]
  },
  {
   "cell_type": "code",
   "execution_count": 1,
   "id": "11beac7b",
   "metadata": {},
   "outputs": [
    {
     "data": {
      "text/plain": [
       "float"
      ]
     },
     "execution_count": 1,
     "metadata": {},
     "output_type": "execute_result"
    }
   ],
   "source": [
    "type(3.14)"
   ]
  },
  {
   "cell_type": "code",
   "execution_count": 2,
   "id": "966d55a0",
   "metadata": {},
   "outputs": [
    {
     "data": {
      "text/plain": [
       "float"
      ]
     },
     "execution_count": 2,
     "metadata": {},
     "output_type": "execute_result"
    }
   ],
   "source": [
    "myFloat = 1.34432423\n",
    "\n",
    "type(myFloat)"
   ]
  },
  {
   "cell_type": "code",
   "execution_count": 3,
   "id": "4e2d61b6",
   "metadata": {},
   "outputs": [
    {
     "data": {
      "text/plain": [
       "10.0"
      ]
     },
     "execution_count": 3,
     "metadata": {},
     "output_type": "execute_result"
    }
   ],
   "source": [
    "40 / 4"
   ]
  },
  {
   "cell_type": "code",
   "execution_count": 4,
   "id": "40989785",
   "metadata": {},
   "outputs": [
    {
     "data": {
      "text/plain": [
       "2.0"
      ]
     },
     "execution_count": 4,
     "metadata": {},
     "output_type": "execute_result"
    }
   ],
   "source": [
    "4 / 2"
   ]
  },
  {
   "cell_type": "code",
   "execution_count": 5,
   "id": "dc7f5257",
   "metadata": {},
   "outputs": [
    {
     "data": {
      "text/plain": [
       "1.3333333333333333"
      ]
     },
     "execution_count": 5,
     "metadata": {},
     "output_type": "execute_result"
    }
   ],
   "source": [
    "4 / 3"
   ]
  },
  {
   "cell_type": "code",
   "execution_count": 6,
   "id": "3d35ce86",
   "metadata": {},
   "outputs": [
    {
     "data": {
      "text/plain": [
       "3.076923076923077"
      ]
     },
     "execution_count": 6,
     "metadata": {},
     "output_type": "execute_result"
    }
   ],
   "source": [
    "40 / 13"
   ]
  },
  {
   "cell_type": "code",
   "execution_count": 7,
   "id": "9206dee1",
   "metadata": {},
   "outputs": [
    {
     "data": {
      "text/plain": [
       "4.444444444444445"
      ]
     },
     "execution_count": 7,
     "metadata": {},
     "output_type": "execute_result"
    }
   ],
   "source": [
    "40 / 9"
   ]
  },
  {
   "cell_type": "code",
   "execution_count": 8,
   "id": "bc5934c9",
   "metadata": {},
   "outputs": [
    {
     "data": {
      "text/plain": [
       "2.0"
      ]
     },
     "execution_count": 8,
     "metadata": {},
     "output_type": "execute_result"
    }
   ],
   "source": [
    "4.0 - 2"
   ]
  },
  {
   "cell_type": "code",
   "execution_count": 9,
   "id": "8ca6142a",
   "metadata": {},
   "outputs": [
    {
     "data": {
      "text/plain": [
       "2.3"
      ]
     },
     "execution_count": 9,
     "metadata": {},
     "output_type": "execute_result"
    }
   ],
   "source": [
    "4.3 - 2"
   ]
  },
  {
   "cell_type": "code",
   "execution_count": 10,
   "id": "0681d5de",
   "metadata": {},
   "outputs": [
    {
     "data": {
      "text/plain": [
       "2.4000000000000004"
      ]
     },
     "execution_count": 10,
     "metadata": {},
     "output_type": "execute_result"
    }
   ],
   "source": [
    "4.4 -2"
   ]
  },
  {
   "cell_type": "code",
   "execution_count": 11,
   "id": "2d4ccb80",
   "metadata": {},
   "outputs": [
    {
     "data": {
      "text/plain": [
       "2.5"
      ]
     },
     "execution_count": 11,
     "metadata": {},
     "output_type": "execute_result"
    }
   ],
   "source": [
    "4.5 - 2"
   ]
  },
  {
   "cell_type": "code",
   "execution_count": 12,
   "id": "7900f739",
   "metadata": {},
   "outputs": [
    {
     "data": {
      "text/plain": [
       "float"
      ]
     },
     "execution_count": 12,
     "metadata": {},
     "output_type": "execute_result"
    }
   ],
   "source": [
    "type(4.5 - 2)"
   ]
  },
  {
   "cell_type": "code",
   "execution_count": 13,
   "id": "816b992b",
   "metadata": {},
   "outputs": [
    {
     "data": {
      "text/plain": [
       "12.600000000000001"
      ]
     },
     "execution_count": 13,
     "metadata": {},
     "output_type": "execute_result"
    }
   ],
   "source": [
    "4.2 * 3"
   ]
  },
  {
   "cell_type": "code",
   "execution_count": 14,
   "id": "cf89a4fd",
   "metadata": {},
   "outputs": [
    {
     "data": {
      "text/plain": [
       "13.440000000000001"
      ]
     },
     "execution_count": 14,
     "metadata": {},
     "output_type": "execute_result"
    }
   ],
   "source": [
    "4.2 * 3.2"
   ]
  },
  {
   "cell_type": "code",
   "execution_count": 15,
   "id": "0208af13",
   "metadata": {},
   "outputs": [
    {
     "data": {
      "text/plain": [
       "2.6000000000000014"
      ]
     },
     "execution_count": 15,
     "metadata": {},
     "output_type": "execute_result"
    }
   ],
   "source": [
    "4.2 * 3 -10"
   ]
  },
  {
   "cell_type": "code",
   "execution_count": null,
   "id": "f951da16",
   "metadata": {},
   "outputs": [],
   "source": []
  }
 ],
 "metadata": {
  "kernelspec": {
   "display_name": "Python 3",
   "language": "python",
   "name": "python3"
  },
  "language_info": {
   "codemirror_mode": {
    "name": "ipython",
    "version": 3
   },
   "file_extension": ".py",
   "mimetype": "text/x-python",
   "name": "python",
   "nbconvert_exporter": "python",
   "pygments_lexer": "ipython3",
   "version": "3.11.6"
  }
 },
 "nbformat": 4,
 "nbformat_minor": 5
}
